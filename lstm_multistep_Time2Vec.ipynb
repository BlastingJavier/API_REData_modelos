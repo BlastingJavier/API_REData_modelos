{
 "metadata": {
  "language_info": {
   "codemirror_mode": {
    "name": "ipython",
    "version": 3
   },
   "file_extension": ".py",
   "mimetype": "text/x-python",
   "name": "python",
   "nbconvert_exporter": "python",
   "pygments_lexer": "ipython3",
   "version": "3.7.4"
  },
  "orig_nbformat": 2,
  "kernelspec": {
   "name": "python37464bitbasecondac547116b29364bc6a987cb9d2b9c1f30",
   "display_name": "Python 3.7.4 64-bit ('base': conda)"
  },
  "metadata": {
   "interpreter": {
    "hash": "f56191c7ce0b73b3466ae7dded3423d6980e340342c7b9ccfd9058e348dc3979"
   }
  }
 },
 "nbformat": 4,
 "nbformat_minor": 2,
 "cells": [
  {
   "cell_type": "code",
   "execution_count": 1,
   "metadata": {},
   "outputs": [
    {
     "output_type": "stream",
     "name": "stderr",
     "text": [
      "Using TensorFlow backend.\n"
     ]
    }
   ],
   "source": [
    "import numpy as np \n",
    "import pandas as pd\n",
    "import matplotlib.pyplot as plt\n",
    "import seaborn as sns\n",
    "\n",
    "import tensorflow as tf\n",
    "import tensorflow.keras as tfk\n",
    "from tensorflow.keras import backend as K\n",
    "\n",
    "\n",
    "from sklearn.preprocessing import StandardScaler\n",
    "from keras.callbacks import Callback\n",
    "\n",
    "from tensorflow.keras.layers import Dense, Conv1D, Flatten, Dropout, LayerNormalization\n",
    "\n",
    "from tensorflow.keras.regularizers import L2\n",
    "\n",
    "from tensorflow.keras.models import *\n",
    "from tensorflow.keras.layers import *\n",
    "plt.style.use('seaborn')\n",
    "from tensorflow.keras.preprocessing import timeseries_dataset_from_array\n",
    "\n",
    "from utils import preprocess_time_series_v2"
   ]
  },
  {
   "cell_type": "code",
   "execution_count": 2,
   "metadata": {},
   "outputs": [],
   "source": [
    "class T2V(Layer):\n",
    "    \n",
    "    def __init__(self, output_dim=None, **kwargs):\n",
    "        self.output_dim = output_dim\n",
    "        super(T2V, self).__init__(**kwargs)\n",
    "        \n",
    "    def build(self, input_shape):\n",
    "        self.W = self.add_weight(name='W',\n",
    "                      shape=(input_shape[-1], self.output_dim),\n",
    "                      initializer='uniform',\n",
    "                      trainable=True)\n",
    "        self.P = self.add_weight(name='P',\n",
    "                      shape=(input_shape[1], self.output_dim),\n",
    "                      initializer='uniform',\n",
    "                      trainable=True)\n",
    "        self.w = self.add_weight(name='w',\n",
    "                      shape=(input_shape[1], 1),\n",
    "                      initializer='uniform',\n",
    "                      trainable=True)\n",
    "        self.p = self.add_weight(name='p',\n",
    "                      shape=(input_shape[1], 1),\n",
    "                      initializer='uniform',\n",
    "                      trainable=True)\n",
    "        super(T2V, self).build(input_shape)\n",
    "        \n",
    "    def call(self, x):\n",
    "        \n",
    "        original = self.w * x + self.p\n",
    "        sin_trans = K.sin(K.dot(x, self.W) + self.P)\n",
    "        \n",
    "        return K.concatenate([sin_trans, original], -1)"
   ]
  },
  {
   "cell_type": "code",
   "execution_count": 3,
   "metadata": {},
   "outputs": [
    {
     "output_type": "stream",
     "name": "stdout",
     "text": [
      "                      Date  value\n",
      "0      2016-01-02 23:00:00  24151\n",
      "1      2016-01-03 00:00:00  22170\n",
      "2      2016-01-03 01:00:00  20691\n",
      "3      2016-01-03 02:00:00  19737\n",
      "4      2016-01-03 03:00:00  19437\n",
      "...                    ...    ...\n",
      "34940  2019-12-28 19:00:00  29282\n",
      "34941  2019-12-28 20:00:00  29266\n",
      "34942  2019-12-28 21:00:00  28022\n",
      "34943  2019-12-28 22:00:00  25964\n",
      "34944  2019-12-28 23:00:00  24680\n",
      "\n",
      "[34945 rows x 2 columns]\n",
      "(17497, 1)\n",
      "(8760, 1)\n",
      "(8688, 1)\n",
      "shape train/val (17497, 1) (8760, 1) (8688, 1)\n",
      "Tamano de la serie temporal 2\n",
      "Tamano de la serie temporal 2\n",
      "Tamano de la serie temporal 2\n",
      "shape train/val (17396, 96, 1, 1) (8659, 96, 1, 1) (8587, 96, 1, 1)\n",
      "(17396, 96, 1, 1)\n",
      "/home/blasting/TFG_TimeSeries/notebooks/utils.py:131: FutureWarning: Indexing a DataFrame with a datetimelike index using a single string to slice the rows, like `frame[string]`, is deprecated and will be removed in a future version. Use `frame.loc[string]` instead.\n",
      "  val_data = df[date_val].to_numpy()\n",
      "/home/blasting/TFG_TimeSeries/notebooks/utils.py:132: FutureWarning: Indexing a DataFrame with a datetimelike index using a single string to slice the rows, like `frame[string]`, is deprecated and will be removed in a future version. Use `frame.loc[string]` instead.\n",
      "  test_data = df[date_test].to_numpy()\n"
     ]
    }
   ],
   "source": [
    "df = pd.read_csv('REE_2016_2020_gluonTS.csv')\n",
    "\n",
    "X_train, y_train, X_val, y_val, X_test, y_test, scaler = preprocess_time_series_v2(df, date_init='2016', date_final='2017', date_val='2018', date_test='2019', \n",
    "                            past_timestamps=96, forecasting_horizon=6, \n",
    "                            standarize=True, metafeatures=False, tendency=False)"
   ]
  },
  {
   "cell_type": "code",
   "execution_count": 4,
   "metadata": {},
   "outputs": [
    {
     "output_type": "stream",
     "name": "stdout",
     "text": [
      "Model: \"model\"\n_________________________________________________________________\nLayer (type)                 Output Shape              Param #   \n=================================================================\ninput_1 (InputLayer)         [(None, 96, 1)]           0         \n_________________________________________________________________\nt2v (T2V)                    (None, 96, 129)           12608     \n_________________________________________________________________\nlstm (LSTM)                  (None, 96, 64)            49664     \n_________________________________________________________________\nlstm_1 (LSTM)                (None, 64)                33024     \n_________________________________________________________________\ndense (Dense)                (None, 6)                 390       \n=================================================================\nTotal params: 95,686\nTrainable params: 95,686\nNon-trainable params: 0\n_________________________________________________________________\n"
     ]
    }
   ],
   "source": [
    "n_neurons = int(2/3*(X_train.shape[1]*X_train.shape[2]))\n",
    "\n",
    "\n",
    "inputs = tfk.layers.Input(shape=(X_train.shape[1], X_train.shape[2]))\n",
    "time2vec = T2V(128)(inputs)\n",
    "lstm_out = tfk.layers.LSTM(n_neurons,return_sequences=True)(time2vec)\n",
    "lstm_out = tfk.layers.LSTM(n_neurons,)(lstm_out)\n",
    "outputs = tfk.layers.Dense(y_train.shape[1], activation='linear')(lstm_out)\n",
    "\n",
    "model = tfk.Model(inputs=inputs, outputs=outputs)\n",
    "model.compile(loss=tfk.losses.MeanSquaredError(), optimizer= tfk.optimizers.Adam(),\n",
    "metrics=[tfk.metrics.MeanAbsoluteError()])\n",
    "model.summary()"
   ]
  },
  {
   "cell_type": "code",
   "execution_count": 5,
   "metadata": {
    "tags": []
   },
   "outputs": [
    {
     "output_type": "stream",
     "name": "stdout",
     "text": [
      "Epoch 1/50\n",
      "68/68 [==============================] - 46s 617ms/step - loss: 0.7641 - mean_absolute_error: 0.7281 - val_loss: 0.1624 - val_mean_absolute_error: 0.3032\n",
      "Epoch 2/50\n",
      "68/68 [==============================] - 38s 560ms/step - loss: 0.1294 - mean_absolute_error: 0.2713 - val_loss: 0.0884 - val_mean_absolute_error: 0.2256\n",
      "Epoch 3/50\n",
      "68/68 [==============================] - 38s 565ms/step - loss: 0.0806 - mean_absolute_error: 0.2121 - val_loss: 0.0804 - val_mean_absolute_error: 0.2119\n",
      "Epoch 4/50\n",
      "68/68 [==============================] - 38s 559ms/step - loss: 0.0733 - mean_absolute_error: 0.2018 - val_loss: 0.0746 - val_mean_absolute_error: 0.2045\n",
      "Epoch 5/50\n",
      "68/68 [==============================] - 39s 578ms/step - loss: 0.0657 - mean_absolute_error: 0.1903 - val_loss: 0.0803 - val_mean_absolute_error: 0.2161\n",
      "Epoch 6/50\n",
      "68/68 [==============================] - 39s 574ms/step - loss: 0.0643 - mean_absolute_error: 0.1879 - val_loss: 0.0654 - val_mean_absolute_error: 0.1897\n",
      "Epoch 7/50\n",
      "68/68 [==============================] - 39s 575ms/step - loss: 0.0591 - mean_absolute_error: 0.1793 - val_loss: 0.0569 - val_mean_absolute_error: 0.1748\n",
      "Epoch 8/50\n",
      "68/68 [==============================] - 40s 586ms/step - loss: 0.0544 - mean_absolute_error: 0.1703 - val_loss: 0.0515 - val_mean_absolute_error: 0.1654\n",
      "Epoch 9/50\n",
      "68/68 [==============================] - 38s 562ms/step - loss: 0.0494 - mean_absolute_error: 0.1619 - val_loss: 0.0506 - val_mean_absolute_error: 0.1663\n",
      "Epoch 10/50\n",
      "68/68 [==============================] - 39s 569ms/step - loss: 0.0424 - mean_absolute_error: 0.1488 - val_loss: 0.0392 - val_mean_absolute_error: 0.1413\n",
      "Epoch 11/50\n",
      "68/68 [==============================] - 38s 562ms/step - loss: 0.0356 - mean_absolute_error: 0.1352 - val_loss: 0.0355 - val_mean_absolute_error: 0.1340\n",
      "Epoch 12/50\n",
      "68/68 [==============================] - 40s 582ms/step - loss: 0.0339 - mean_absolute_error: 0.1315 - val_loss: 0.0326 - val_mean_absolute_error: 0.1258\n",
      "Epoch 13/50\n",
      "68/68 [==============================] - 39s 574ms/step - loss: 0.0326 - mean_absolute_error: 0.1277 - val_loss: 0.0329 - val_mean_absolute_error: 0.1282\n",
      "Epoch 14/50\n",
      "68/68 [==============================] - 38s 563ms/step - loss: 0.0281 - mean_absolute_error: 0.1193 - val_loss: 0.0312 - val_mean_absolute_error: 0.1221\n",
      "Epoch 15/50\n",
      "68/68 [==============================] - 40s 596ms/step - loss: 0.0292 - mean_absolute_error: 0.1210 - val_loss: 0.0352 - val_mean_absolute_error: 0.1282\n",
      "Epoch 16/50\n",
      "68/68 [==============================] - 39s 574ms/step - loss: 0.0285 - mean_absolute_error: 0.1194 - val_loss: 0.0314 - val_mean_absolute_error: 0.1244\n",
      "Epoch 17/50\n",
      "68/68 [==============================] - 42s 619ms/step - loss: 0.0256 - mean_absolute_error: 0.1139 - val_loss: 0.0252 - val_mean_absolute_error: 0.1097\n",
      "Epoch 18/50\n",
      "68/68 [==============================] - 39s 573ms/step - loss: 0.0239 - mean_absolute_error: 0.1100 - val_loss: 0.0264 - val_mean_absolute_error: 0.1143\n",
      "Epoch 19/50\n",
      "68/68 [==============================] - 38s 567ms/step - loss: 0.0226 - mean_absolute_error: 0.1066 - val_loss: 0.0265 - val_mean_absolute_error: 0.1144\n",
      "Epoch 20/50\n",
      "68/68 [==============================] - 38s 560ms/step - loss: 0.0230 - mean_absolute_error: 0.1081 - val_loss: 0.0236 - val_mean_absolute_error: 0.1072\n",
      "Epoch 21/50\n",
      "68/68 [==============================] - 38s 558ms/step - loss: 0.0218 - mean_absolute_error: 0.1047 - val_loss: 0.0230 - val_mean_absolute_error: 0.1059\n",
      "Epoch 22/50\n",
      "68/68 [==============================] - 38s 566ms/step - loss: 0.0211 - mean_absolute_error: 0.1034 - val_loss: 0.0266 - val_mean_absolute_error: 0.1136\n",
      "Epoch 23/50\n",
      "68/68 [==============================] - 38s 560ms/step - loss: 0.0213 - mean_absolute_error: 0.1039 - val_loss: 0.0230 - val_mean_absolute_error: 0.1057\n",
      "Epoch 24/50\n",
      "68/68 [==============================] - 38s 564ms/step - loss: 0.0194 - mean_absolute_error: 0.0989 - val_loss: 0.0231 - val_mean_absolute_error: 0.1079\n",
      "Epoch 25/50\n",
      "68/68 [==============================] - 38s 561ms/step - loss: 0.0190 - mean_absolute_error: 0.0989 - val_loss: 0.0215 - val_mean_absolute_error: 0.1033\n",
      "Epoch 26/50\n",
      "68/68 [==============================] - 38s 561ms/step - loss: 0.0194 - mean_absolute_error: 0.0994 - val_loss: 0.0208 - val_mean_absolute_error: 0.0996\n",
      "Epoch 27/50\n",
      "68/68 [==============================] - 38s 559ms/step - loss: 0.0187 - mean_absolute_error: 0.0969 - val_loss: 0.0206 - val_mean_absolute_error: 0.1001\n",
      "Epoch 28/50\n",
      "68/68 [==============================] - 39s 572ms/step - loss: 0.0182 - mean_absolute_error: 0.0960 - val_loss: 0.0219 - val_mean_absolute_error: 0.1041\n",
      "Epoch 29/50\n",
      "68/68 [==============================] - 40s 586ms/step - loss: 0.0189 - mean_absolute_error: 0.0977 - val_loss: 0.0199 - val_mean_absolute_error: 0.0981\n",
      "Epoch 30/50\n",
      "68/68 [==============================] - 38s 560ms/step - loss: 0.0164 - mean_absolute_error: 0.0920 - val_loss: 0.0193 - val_mean_absolute_error: 0.0962\n",
      "Epoch 31/50\n",
      "68/68 [==============================] - 39s 568ms/step - loss: 0.0178 - mean_absolute_error: 0.0947 - val_loss: 0.0190 - val_mean_absolute_error: 0.0964\n",
      "Epoch 32/50\n",
      "68/68 [==============================] - 38s 565ms/step - loss: 0.0161 - mean_absolute_error: 0.0903 - val_loss: 0.0175 - val_mean_absolute_error: 0.0915\n",
      "Epoch 33/50\n",
      "68/68 [==============================] - 39s 573ms/step - loss: 0.0160 - mean_absolute_error: 0.0906 - val_loss: 0.0169 - val_mean_absolute_error: 0.0898\n",
      "Epoch 34/50\n",
      "68/68 [==============================] - 39s 569ms/step - loss: 0.0157 - mean_absolute_error: 0.0894 - val_loss: 0.0197 - val_mean_absolute_error: 0.1000\n",
      "Epoch 35/50\n",
      "68/68 [==============================] - 38s 566ms/step - loss: 0.0155 - mean_absolute_error: 0.0888 - val_loss: 0.0180 - val_mean_absolute_error: 0.0942\n",
      "Epoch 36/50\n",
      "68/68 [==============================] - 39s 573ms/step - loss: 0.0144 - mean_absolute_error: 0.0863 - val_loss: 0.0211 - val_mean_absolute_error: 0.1006\n",
      "Epoch 37/50\n",
      "68/68 [==============================] - 38s 567ms/step - loss: 0.0149 - mean_absolute_error: 0.0868 - val_loss: 0.0175 - val_mean_absolute_error: 0.0942\n",
      "Epoch 38/50\n",
      "68/68 [==============================] - 41s 607ms/step - loss: 0.0162 - mean_absolute_error: 0.0902 - val_loss: 0.0162 - val_mean_absolute_error: 0.0882\n",
      "Epoch 39/50\n",
      "68/68 [==============================] - 39s 578ms/step - loss: 0.0142 - mean_absolute_error: 0.0850 - val_loss: 0.0168 - val_mean_absolute_error: 0.0899\n",
      "Epoch 40/50\n",
      "68/68 [==============================] - 40s 591ms/step - loss: 0.0135 - mean_absolute_error: 0.0840 - val_loss: 0.0162 - val_mean_absolute_error: 0.0888\n",
      "Epoch 41/50\n",
      "68/68 [==============================] - 40s 592ms/step - loss: 0.0135 - mean_absolute_error: 0.0829 - val_loss: 0.0167 - val_mean_absolute_error: 0.0901\n",
      "Epoch 42/50\n",
      "68/68 [==============================] - 39s 575ms/step - loss: 0.0134 - mean_absolute_error: 0.0835 - val_loss: 0.0155 - val_mean_absolute_error: 0.0863\n",
      "Epoch 43/50\n",
      "68/68 [==============================] - 36s 524ms/step - loss: 0.0129 - mean_absolute_error: 0.0814 - val_loss: 0.0176 - val_mean_absolute_error: 0.0915\n",
      "Epoch 44/50\n",
      "68/68 [==============================] - 38s 562ms/step - loss: 0.0137 - mean_absolute_error: 0.0832 - val_loss: 0.0161 - val_mean_absolute_error: 0.0873\n",
      "Epoch 45/50\n",
      "68/68 [==============================] - 38s 559ms/step - loss: 0.0131 - mean_absolute_error: 0.0820 - val_loss: 0.0177 - val_mean_absolute_error: 0.0923\n",
      "Epoch 46/50\n",
      "68/68 [==============================] - 38s 554ms/step - loss: 0.0125 - mean_absolute_error: 0.0810 - val_loss: 0.0152 - val_mean_absolute_error: 0.0857\n",
      "Epoch 47/50\n",
      "68/68 [==============================] - 38s 553ms/step - loss: 0.0121 - mean_absolute_error: 0.0794 - val_loss: 0.0150 - val_mean_absolute_error: 0.0839\n",
      "Epoch 48/50\n",
      "68/68 [==============================] - 38s 561ms/step - loss: 0.0121 - mean_absolute_error: 0.0794 - val_loss: 0.0154 - val_mean_absolute_error: 0.0858\n",
      "Epoch 49/50\n",
      "68/68 [==============================] - 38s 554ms/step - loss: 0.0118 - mean_absolute_error: 0.0780 - val_loss: 0.0143 - val_mean_absolute_error: 0.0820\n",
      "Epoch 50/50\n",
      "68/68 [==============================] - 38s 557ms/step - loss: 0.0117 - mean_absolute_error: 0.0777 - val_loss: 0.0155 - val_mean_absolute_error: 0.0846\n"
     ]
    }
   ],
   "source": [
    "batch_size = 256\n",
    "history = model.fit(X_train, y_train, \n",
    "                    batch_size=batch_size, \n",
    "                    epochs=50, \n",
    "                    validation_data=(X_val, y_val)) \n",
    "\n",
    "\n",
    "loss = history.history['loss']            #entrenamiento\n",
    "val_loss = history.history['val_loss']    #validacion\n",
    "#val_mse = history.history['val_mse']    #validacion\n",
    "#mse = history.history['mse']    #validacion\n"
   ]
  },
  {
   "cell_type": "code",
   "execution_count": 15,
   "metadata": {},
   "outputs": [
    {
     "output_type": "error",
     "ename": "NotImplementedError",
     "evalue": "Layer T2V has arguments in `__init__` and therefore must override `get_config`.",
     "traceback": [
      "\u001b[0;31m---------------------------------------------------------------------------\u001b[0m",
      "\u001b[0;31mNotImplementedError\u001b[0m                       Traceback (most recent call last)",
      "\u001b[0;32m<ipython-input-15-76ed25d2e218>\u001b[0m in \u001b[0;36m<module>\u001b[0;34m\u001b[0m\n\u001b[0;32m----> 1\u001b[0;31m \u001b[0mmodel\u001b[0m\u001b[0;34m.\u001b[0m\u001b[0msave\u001b[0m\u001b[0;34m(\u001b[0m\u001b[0;34m'LSTMT2VEC_150.h5'\u001b[0m\u001b[0;34m)\u001b[0m\u001b[0;34m\u001b[0m\u001b[0;34m\u001b[0m\u001b[0m\n\u001b[0m",
      "\u001b[0;32m~/anaconda3/lib/python3.7/site-packages/tensorflow/python/keras/engine/training.py\u001b[0m in \u001b[0;36msave\u001b[0;34m(self, filepath, overwrite, include_optimizer, save_format, signatures, options, save_traces)\u001b[0m\n\u001b[1;32m   2000\u001b[0m     \u001b[0;31m# pylint: enable=line-too-long\u001b[0m\u001b[0;34m\u001b[0m\u001b[0;34m\u001b[0m\u001b[0;34m\u001b[0m\u001b[0m\n\u001b[1;32m   2001\u001b[0m     save.save_model(self, filepath, overwrite, include_optimizer, save_format,\n\u001b[0;32m-> 2002\u001b[0;31m                     signatures, options, save_traces)\n\u001b[0m\u001b[1;32m   2003\u001b[0m \u001b[0;34m\u001b[0m\u001b[0m\n\u001b[1;32m   2004\u001b[0m   def save_weights(self,\n",
      "\u001b[0;32m~/anaconda3/lib/python3.7/site-packages/tensorflow/python/keras/saving/save.py\u001b[0m in \u001b[0;36msave_model\u001b[0;34m(model, filepath, overwrite, include_optimizer, save_format, signatures, options, save_traces)\u001b[0m\n\u001b[1;32m    152\u001b[0m           'or using `save_weights`.')\n\u001b[1;32m    153\u001b[0m     hdf5_format.save_model_to_hdf5(\n\u001b[0;32m--> 154\u001b[0;31m         model, filepath, overwrite, include_optimizer)\n\u001b[0m\u001b[1;32m    155\u001b[0m   \u001b[0;32melse\u001b[0m\u001b[0;34m:\u001b[0m\u001b[0;34m\u001b[0m\u001b[0;34m\u001b[0m\u001b[0m\n\u001b[1;32m    156\u001b[0m     saved_model_save.save(model, filepath, overwrite, include_optimizer,\n",
      "\u001b[0;32m~/anaconda3/lib/python3.7/site-packages/tensorflow/python/keras/saving/hdf5_format.py\u001b[0m in \u001b[0;36msave_model_to_hdf5\u001b[0;34m(model, filepath, overwrite, include_optimizer)\u001b[0m\n\u001b[1;32m    113\u001b[0m \u001b[0;34m\u001b[0m\u001b[0m\n\u001b[1;32m    114\u001b[0m   \u001b[0;32mtry\u001b[0m\u001b[0;34m:\u001b[0m\u001b[0;34m\u001b[0m\u001b[0;34m\u001b[0m\u001b[0m\n\u001b[0;32m--> 115\u001b[0;31m     \u001b[0mmodel_metadata\u001b[0m \u001b[0;34m=\u001b[0m \u001b[0msaving_utils\u001b[0m\u001b[0;34m.\u001b[0m\u001b[0mmodel_metadata\u001b[0m\u001b[0;34m(\u001b[0m\u001b[0mmodel\u001b[0m\u001b[0;34m,\u001b[0m \u001b[0minclude_optimizer\u001b[0m\u001b[0;34m)\u001b[0m\u001b[0;34m\u001b[0m\u001b[0;34m\u001b[0m\u001b[0m\n\u001b[0m\u001b[1;32m    116\u001b[0m     \u001b[0;32mfor\u001b[0m \u001b[0mk\u001b[0m\u001b[0;34m,\u001b[0m \u001b[0mv\u001b[0m \u001b[0;32min\u001b[0m \u001b[0mmodel_metadata\u001b[0m\u001b[0;34m.\u001b[0m\u001b[0mitems\u001b[0m\u001b[0;34m(\u001b[0m\u001b[0;34m)\u001b[0m\u001b[0;34m:\u001b[0m\u001b[0;34m\u001b[0m\u001b[0;34m\u001b[0m\u001b[0m\n\u001b[1;32m    117\u001b[0m       \u001b[0;32mif\u001b[0m \u001b[0misinstance\u001b[0m\u001b[0;34m(\u001b[0m\u001b[0mv\u001b[0m\u001b[0;34m,\u001b[0m \u001b[0;34m(\u001b[0m\u001b[0mdict\u001b[0m\u001b[0;34m,\u001b[0m \u001b[0mlist\u001b[0m\u001b[0;34m,\u001b[0m \u001b[0mtuple\u001b[0m\u001b[0;34m)\u001b[0m\u001b[0;34m)\u001b[0m\u001b[0;34m:\u001b[0m\u001b[0;34m\u001b[0m\u001b[0;34m\u001b[0m\u001b[0m\n",
      "\u001b[0;32m~/anaconda3/lib/python3.7/site-packages/tensorflow/python/keras/saving/saving_utils.py\u001b[0m in \u001b[0;36mmodel_metadata\u001b[0;34m(model, include_optimizer, require_config)\u001b[0m\n\u001b[1;32m    156\u001b[0m   \u001b[0;32mexcept\u001b[0m \u001b[0mNotImplementedError\u001b[0m \u001b[0;32mas\u001b[0m \u001b[0me\u001b[0m\u001b[0;34m:\u001b[0m\u001b[0;34m\u001b[0m\u001b[0;34m\u001b[0m\u001b[0m\n\u001b[1;32m    157\u001b[0m     \u001b[0;32mif\u001b[0m \u001b[0mrequire_config\u001b[0m\u001b[0;34m:\u001b[0m\u001b[0;34m\u001b[0m\u001b[0;34m\u001b[0m\u001b[0m\n\u001b[0;32m--> 158\u001b[0;31m       \u001b[0;32mraise\u001b[0m \u001b[0me\u001b[0m\u001b[0;34m\u001b[0m\u001b[0;34m\u001b[0m\u001b[0m\n\u001b[0m\u001b[1;32m    159\u001b[0m \u001b[0;34m\u001b[0m\u001b[0m\n\u001b[1;32m    160\u001b[0m   metadata = dict(\n",
      "\u001b[0;32m~/anaconda3/lib/python3.7/site-packages/tensorflow/python/keras/saving/saving_utils.py\u001b[0m in \u001b[0;36mmodel_metadata\u001b[0;34m(model, include_optimizer, require_config)\u001b[0m\n\u001b[1;32m    153\u001b[0m   \u001b[0mmodel_config\u001b[0m \u001b[0;34m=\u001b[0m \u001b[0;34m{\u001b[0m\u001b[0;34m'class_name'\u001b[0m\u001b[0;34m:\u001b[0m \u001b[0mmodel\u001b[0m\u001b[0;34m.\u001b[0m\u001b[0m__class__\u001b[0m\u001b[0;34m.\u001b[0m\u001b[0m__name__\u001b[0m\u001b[0;34m}\u001b[0m\u001b[0;34m\u001b[0m\u001b[0;34m\u001b[0m\u001b[0m\n\u001b[1;32m    154\u001b[0m   \u001b[0;32mtry\u001b[0m\u001b[0;34m:\u001b[0m\u001b[0;34m\u001b[0m\u001b[0;34m\u001b[0m\u001b[0m\n\u001b[0;32m--> 155\u001b[0;31m     \u001b[0mmodel_config\u001b[0m\u001b[0;34m[\u001b[0m\u001b[0;34m'config'\u001b[0m\u001b[0;34m]\u001b[0m \u001b[0;34m=\u001b[0m \u001b[0mmodel\u001b[0m\u001b[0;34m.\u001b[0m\u001b[0mget_config\u001b[0m\u001b[0;34m(\u001b[0m\u001b[0;34m)\u001b[0m\u001b[0;34m\u001b[0m\u001b[0;34m\u001b[0m\u001b[0m\n\u001b[0m\u001b[1;32m    156\u001b[0m   \u001b[0;32mexcept\u001b[0m \u001b[0mNotImplementedError\u001b[0m \u001b[0;32mas\u001b[0m \u001b[0me\u001b[0m\u001b[0;34m:\u001b[0m\u001b[0;34m\u001b[0m\u001b[0;34m\u001b[0m\u001b[0m\n\u001b[1;32m    157\u001b[0m     \u001b[0;32mif\u001b[0m \u001b[0mrequire_config\u001b[0m\u001b[0;34m:\u001b[0m\u001b[0;34m\u001b[0m\u001b[0;34m\u001b[0m\u001b[0m\n",
      "\u001b[0;32m~/anaconda3/lib/python3.7/site-packages/tensorflow/python/keras/engine/functional.py\u001b[0m in \u001b[0;36mget_config\u001b[0;34m(self)\u001b[0m\n\u001b[1;32m    648\u001b[0m \u001b[0;34m\u001b[0m\u001b[0m\n\u001b[1;32m    649\u001b[0m   \u001b[0;32mdef\u001b[0m \u001b[0mget_config\u001b[0m\u001b[0;34m(\u001b[0m\u001b[0mself\u001b[0m\u001b[0;34m)\u001b[0m\u001b[0;34m:\u001b[0m\u001b[0;34m\u001b[0m\u001b[0;34m\u001b[0m\u001b[0m\n\u001b[0;32m--> 650\u001b[0;31m     \u001b[0;32mreturn\u001b[0m \u001b[0mcopy\u001b[0m\u001b[0;34m.\u001b[0m\u001b[0mdeepcopy\u001b[0m\u001b[0;34m(\u001b[0m\u001b[0mget_network_config\u001b[0m\u001b[0;34m(\u001b[0m\u001b[0mself\u001b[0m\u001b[0;34m)\u001b[0m\u001b[0;34m)\u001b[0m\u001b[0;34m\u001b[0m\u001b[0;34m\u001b[0m\u001b[0m\n\u001b[0m\u001b[1;32m    651\u001b[0m \u001b[0;34m\u001b[0m\u001b[0m\n\u001b[1;32m    652\u001b[0m   \u001b[0;34m@\u001b[0m\u001b[0mclassmethod\u001b[0m\u001b[0;34m\u001b[0m\u001b[0;34m\u001b[0m\u001b[0m\n",
      "\u001b[0;32m~/anaconda3/lib/python3.7/site-packages/tensorflow/python/keras/engine/functional.py\u001b[0m in \u001b[0;36mget_network_config\u001b[0;34m(network, serialize_layer_fn)\u001b[0m\n\u001b[1;32m   1347\u001b[0m         \u001b[0mfiltered_inbound_nodes\u001b[0m\u001b[0;34m.\u001b[0m\u001b[0mappend\u001b[0m\u001b[0;34m(\u001b[0m\u001b[0mnode_data\u001b[0m\u001b[0;34m)\u001b[0m\u001b[0;34m\u001b[0m\u001b[0;34m\u001b[0m\u001b[0m\n\u001b[1;32m   1348\u001b[0m \u001b[0;34m\u001b[0m\u001b[0m\n\u001b[0;32m-> 1349\u001b[0;31m     \u001b[0mlayer_config\u001b[0m \u001b[0;34m=\u001b[0m \u001b[0mserialize_layer_fn\u001b[0m\u001b[0;34m(\u001b[0m\u001b[0mlayer\u001b[0m\u001b[0;34m)\u001b[0m\u001b[0;34m\u001b[0m\u001b[0;34m\u001b[0m\u001b[0m\n\u001b[0m\u001b[1;32m   1350\u001b[0m     \u001b[0mlayer_config\u001b[0m\u001b[0;34m[\u001b[0m\u001b[0;34m'name'\u001b[0m\u001b[0;34m]\u001b[0m \u001b[0;34m=\u001b[0m \u001b[0mlayer\u001b[0m\u001b[0;34m.\u001b[0m\u001b[0mname\u001b[0m\u001b[0;34m\u001b[0m\u001b[0;34m\u001b[0m\u001b[0m\n\u001b[1;32m   1351\u001b[0m     \u001b[0mlayer_config\u001b[0m\u001b[0;34m[\u001b[0m\u001b[0;34m'inbound_nodes'\u001b[0m\u001b[0;34m]\u001b[0m \u001b[0;34m=\u001b[0m \u001b[0mfiltered_inbound_nodes\u001b[0m\u001b[0;34m\u001b[0m\u001b[0;34m\u001b[0m\u001b[0m\n",
      "\u001b[0;32m~/anaconda3/lib/python3.7/site-packages/tensorflow/python/keras/utils/generic_utils.py\u001b[0m in \u001b[0;36mserialize_keras_object\u001b[0;34m(instance)\u001b[0m\n\u001b[1;32m    248\u001b[0m         return serialize_keras_class_and_config(\n\u001b[1;32m    249\u001b[0m             name, {_LAYER_UNDEFINED_CONFIG_KEY: True})\n\u001b[0;32m--> 250\u001b[0;31m       \u001b[0;32mraise\u001b[0m \u001b[0me\u001b[0m\u001b[0;34m\u001b[0m\u001b[0;34m\u001b[0m\u001b[0m\n\u001b[0m\u001b[1;32m    251\u001b[0m     \u001b[0mserialization_config\u001b[0m \u001b[0;34m=\u001b[0m \u001b[0;34m{\u001b[0m\u001b[0;34m}\u001b[0m\u001b[0;34m\u001b[0m\u001b[0;34m\u001b[0m\u001b[0m\n\u001b[1;32m    252\u001b[0m     \u001b[0;32mfor\u001b[0m \u001b[0mkey\u001b[0m\u001b[0;34m,\u001b[0m \u001b[0mitem\u001b[0m \u001b[0;32min\u001b[0m \u001b[0mconfig\u001b[0m\u001b[0;34m.\u001b[0m\u001b[0mitems\u001b[0m\u001b[0;34m(\u001b[0m\u001b[0;34m)\u001b[0m\u001b[0;34m:\u001b[0m\u001b[0;34m\u001b[0m\u001b[0;34m\u001b[0m\u001b[0m\n",
      "\u001b[0;32m~/anaconda3/lib/python3.7/site-packages/tensorflow/python/keras/utils/generic_utils.py\u001b[0m in \u001b[0;36mserialize_keras_object\u001b[0;34m(instance)\u001b[0m\n\u001b[1;32m    243\u001b[0m     \u001b[0mname\u001b[0m \u001b[0;34m=\u001b[0m \u001b[0mget_registered_name\u001b[0m\u001b[0;34m(\u001b[0m\u001b[0minstance\u001b[0m\u001b[0;34m.\u001b[0m\u001b[0m__class__\u001b[0m\u001b[0;34m)\u001b[0m\u001b[0;34m\u001b[0m\u001b[0;34m\u001b[0m\u001b[0m\n\u001b[1;32m    244\u001b[0m     \u001b[0;32mtry\u001b[0m\u001b[0;34m:\u001b[0m\u001b[0;34m\u001b[0m\u001b[0;34m\u001b[0m\u001b[0m\n\u001b[0;32m--> 245\u001b[0;31m       \u001b[0mconfig\u001b[0m \u001b[0;34m=\u001b[0m \u001b[0minstance\u001b[0m\u001b[0;34m.\u001b[0m\u001b[0mget_config\u001b[0m\u001b[0;34m(\u001b[0m\u001b[0;34m)\u001b[0m\u001b[0;34m\u001b[0m\u001b[0;34m\u001b[0m\u001b[0m\n\u001b[0m\u001b[1;32m    246\u001b[0m     \u001b[0;32mexcept\u001b[0m \u001b[0mNotImplementedError\u001b[0m \u001b[0;32mas\u001b[0m \u001b[0me\u001b[0m\u001b[0;34m:\u001b[0m\u001b[0;34m\u001b[0m\u001b[0;34m\u001b[0m\u001b[0m\n\u001b[1;32m    247\u001b[0m       \u001b[0;32mif\u001b[0m \u001b[0m_SKIP_FAILED_SERIALIZATION\u001b[0m\u001b[0;34m:\u001b[0m\u001b[0;34m\u001b[0m\u001b[0;34m\u001b[0m\u001b[0m\n",
      "\u001b[0;32m~/anaconda3/lib/python3.7/site-packages/tensorflow/python/keras/engine/base_layer.py\u001b[0m in \u001b[0;36mget_config\u001b[0;34m(self)\u001b[0m\n\u001b[1;32m    699\u001b[0m       raise NotImplementedError('Layer %s has arguments in `__init__` and '\n\u001b[1;32m    700\u001b[0m                                 \u001b[0;34m'therefore must override `get_config`.'\u001b[0m \u001b[0;34m%\u001b[0m\u001b[0;34m\u001b[0m\u001b[0;34m\u001b[0m\u001b[0m\n\u001b[0;32m--> 701\u001b[0;31m                                 self.__class__.__name__)\n\u001b[0m\u001b[1;32m    702\u001b[0m     \u001b[0;32mreturn\u001b[0m \u001b[0mconfig\u001b[0m\u001b[0;34m\u001b[0m\u001b[0;34m\u001b[0m\u001b[0m\n\u001b[1;32m    703\u001b[0m \u001b[0;34m\u001b[0m\u001b[0m\n",
      "\u001b[0;31mNotImplementedError\u001b[0m: Layer T2V has arguments in `__init__` and therefore must override `get_config`."
     ]
    }
   ],
   "source": [
    "model.save('LSTMT2VEC_150_2.h5')"
   ]
  },
  {
   "cell_type": "code",
   "execution_count": 6,
   "metadata": {},
   "outputs": [
    {
     "output_type": "display_data",
     "data": {
      "text/plain": "<Figure size 576x396 with 1 Axes>",
      "image/svg+xml": "<?xml version=\"1.0\" encoding=\"utf-8\" standalone=\"no\"?>\n<!DOCTYPE svg PUBLIC \"-//W3C//DTD SVG 1.1//EN\"\n  \"http://www.w3.org/Graphics/SVG/1.1/DTD/svg11.dtd\">\n<!-- Created with matplotlib (https://matplotlib.org/) -->\n<svg height=\"329.701875pt\" version=\"1.1\" viewBox=\"0 0 481.7 329.701875\" width=\"481.7pt\" xmlns=\"http://www.w3.org/2000/svg\" xmlns:xlink=\"http://www.w3.org/1999/xlink\">\n <defs>\n  <style type=\"text/css\">\n*{stroke-linecap:butt;stroke-linejoin:round;}\n  </style>\n </defs>\n <g id=\"figure_1\">\n  <g id=\"patch_1\">\n   <path d=\"M 0 329.701875 \nL 481.7 329.701875 \nL 481.7 0 \nL 0 0 \nz\n\" style=\"fill:#ffffff;\"/>\n  </g>\n  <g id=\"axes_1\">\n   <g id=\"patch_2\">\n    <path d=\"M 28.1 306.18 \nL 474.5 306.18 \nL 474.5 7.2 \nL 28.1 7.2 \nz\n\" style=\"fill:#eaeaf2;\"/>\n   </g>\n   <g id=\"matplotlib.axis_1\">\n    <g id=\"xtick_1\">\n     <g id=\"line2d_1\">\n      <path clip-path=\"url(#p2413619cbf)\" d=\"M 48.390909 306.18 \nL 48.390909 7.2 \n\" style=\"fill:none;stroke:#ffffff;stroke-linecap:round;\"/>\n     </g>\n     <g id=\"line2d_2\"/>\n     <g id=\"text_1\">\n      <!-- 0 -->\n      <defs>\n       <path d=\"M 51.703125 34.421875 \nQ 51.703125 24.515625 49.828125 17.75 \nQ 47.953125 10.984375 44.703125 6.8125 \nQ 41.453125 2.640625 37.0625 0.828125 \nQ 32.671875 -0.984375 27.6875 -0.984375 \nQ 22.65625 -0.984375 18.3125 0.828125 \nQ 13.96875 2.640625 10.765625 6.78125 \nQ 7.5625 10.9375 5.734375 17.703125 \nQ 3.90625 24.46875 3.90625 34.421875 \nQ 3.90625 44.828125 5.734375 51.640625 \nQ 7.5625 58.453125 10.78125 62.5 \nQ 14.015625 66.546875 18.40625 68.1875 \nQ 22.796875 69.828125 27.984375 69.828125 \nQ 32.90625 69.828125 37.21875 68.1875 \nQ 41.546875 66.546875 44.765625 62.5 \nQ 48 58.453125 49.84375 51.640625 \nQ 51.703125 44.828125 51.703125 34.421875 \nz\nM 42.78125 34.421875 \nQ 42.78125 42.625 41.796875 48.0625 \nQ 40.828125 53.515625 38.921875 56.765625 \nQ 37.015625 60.015625 34.25 61.359375 \nQ 31.5 62.703125 27.984375 62.703125 \nQ 24.265625 62.703125 21.4375 61.328125 \nQ 18.609375 59.96875 16.671875 56.71875 \nQ 14.75 53.46875 13.765625 48.015625 \nQ 12.796875 42.578125 12.796875 34.421875 \nQ 12.796875 26.515625 13.796875 21.09375 \nQ 14.796875 15.671875 16.71875 12.375 \nQ 18.65625 9.078125 21.4375 7.640625 \nQ 24.21875 6.203125 27.78125 6.203125 \nQ 31.25 6.203125 34.03125 7.640625 \nQ 36.8125 9.078125 38.734375 12.375 \nQ 40.671875 15.671875 41.71875 21.09375 \nQ 42.78125 26.515625 42.78125 34.421875 \nz\n\" id=\"LiberationSans-48\"/>\n      </defs>\n      <g style=\"fill:#262626;\" transform=\"translate(45.61044 320.426875)scale(0.1 -0.1)\">\n       <use xlink:href=\"#LiberationSans-48\"/>\n      </g>\n     </g>\n    </g>\n    <g id=\"xtick_2\">\n     <g id=\"line2d_3\">\n      <path clip-path=\"url(#p2413619cbf)\" d=\"M 131.210946 306.18 \nL 131.210946 7.2 \n\" style=\"fill:none;stroke:#ffffff;stroke-linecap:round;\"/>\n     </g>\n     <g id=\"line2d_4\"/>\n     <g id=\"text_2\">\n      <!-- 10 -->\n      <defs>\n       <path d=\"M 7.625 0 \nL 7.625 7.46875 \nL 25.140625 7.46875 \nL 25.140625 60.40625 \nL 9.625 49.3125 \nL 9.625 57.625 \nL 25.875 68.796875 \nL 33.984375 68.796875 \nL 33.984375 7.46875 \nL 50.734375 7.46875 \nL 50.734375 0 \nz\n\" id=\"LiberationSans-49\"/>\n      </defs>\n      <g style=\"fill:#262626;\" transform=\"translate(125.650009 320.426875)scale(0.1 -0.1)\">\n       <use xlink:href=\"#LiberationSans-49\"/>\n       <use x=\"55.615234\" xlink:href=\"#LiberationSans-48\"/>\n      </g>\n     </g>\n    </g>\n    <g id=\"xtick_3\">\n     <g id=\"line2d_5\">\n      <path clip-path=\"url(#p2413619cbf)\" d=\"M 214.030983 306.18 \nL 214.030983 7.2 \n\" style=\"fill:none;stroke:#ffffff;stroke-linecap:round;\"/>\n     </g>\n     <g id=\"line2d_6\"/>\n     <g id=\"text_3\">\n      <!-- 20 -->\n      <defs>\n       <path d=\"M 5.03125 0 \nL 5.03125 6.203125 \nQ 7.515625 11.921875 11.109375 16.28125 \nQ 14.703125 20.65625 18.65625 24.1875 \nQ 22.609375 27.734375 26.484375 30.765625 \nQ 30.375 33.796875 33.5 36.8125 \nQ 36.625 39.84375 38.546875 43.15625 \nQ 40.484375 46.484375 40.484375 50.6875 \nQ 40.484375 53.609375 39.59375 55.828125 \nQ 38.71875 58.0625 37.0625 59.5625 \nQ 35.40625 61.078125 33.078125 61.828125 \nQ 30.765625 62.59375 27.9375 62.59375 \nQ 25.296875 62.59375 22.96875 61.859375 \nQ 20.65625 61.140625 18.84375 59.671875 \nQ 17.046875 58.203125 15.890625 56.03125 \nQ 14.75 53.859375 14.40625 50.984375 \nL 5.421875 51.8125 \nQ 5.859375 55.515625 7.46875 58.78125 \nQ 9.078125 62.0625 11.90625 64.53125 \nQ 14.75 67 18.71875 68.40625 \nQ 22.703125 69.828125 27.9375 69.828125 \nQ 33.0625 69.828125 37.0625 68.609375 \nQ 41.0625 67.390625 43.8125 64.984375 \nQ 46.578125 62.59375 48.046875 59.078125 \nQ 49.515625 55.5625 49.515625 50.984375 \nQ 49.515625 47.515625 48.265625 44.390625 \nQ 47.015625 41.265625 44.9375 38.421875 \nQ 42.875 35.59375 40.140625 32.953125 \nQ 37.40625 30.328125 34.421875 27.8125 \nQ 31.453125 25.296875 28.421875 22.828125 \nQ 25.390625 20.359375 22.71875 17.859375 \nQ 20.0625 15.375 17.96875 12.8125 \nQ 15.875 10.25 14.703125 7.46875 \nL 50.59375 7.46875 \nL 50.59375 0 \nz\n\" id=\"LiberationSans-50\"/>\n      </defs>\n      <g style=\"fill:#262626;\" transform=\"translate(208.470046 320.426875)scale(0.1 -0.1)\">\n       <use xlink:href=\"#LiberationSans-50\"/>\n       <use x=\"55.615234\" xlink:href=\"#LiberationSans-48\"/>\n      </g>\n     </g>\n    </g>\n    <g id=\"xtick_4\">\n     <g id=\"line2d_7\">\n      <path clip-path=\"url(#p2413619cbf)\" d=\"M 296.85102 306.18 \nL 296.85102 7.2 \n\" style=\"fill:none;stroke:#ffffff;stroke-linecap:round;\"/>\n     </g>\n     <g id=\"line2d_8\"/>\n     <g id=\"text_4\">\n      <!-- 30 -->\n      <defs>\n       <path d=\"M 51.21875 19 \nQ 51.21875 14.265625 49.671875 10.546875 \nQ 48.140625 6.84375 45.1875 4.265625 \nQ 42.234375 1.703125 37.859375 0.359375 \nQ 33.5 -0.984375 27.875 -0.984375 \nQ 21.484375 -0.984375 17.109375 0.609375 \nQ 12.75 2.203125 9.90625 4.8125 \nQ 7.078125 7.421875 5.65625 10.765625 \nQ 4.25 14.109375 3.8125 17.671875 \nL 12.890625 18.5 \nQ 13.28125 15.765625 14.328125 13.515625 \nQ 15.375 11.28125 17.1875 9.671875 \nQ 19 8.0625 21.625 7.171875 \nQ 24.265625 6.296875 27.875 6.296875 \nQ 34.515625 6.296875 38.296875 9.5625 \nQ 42.09375 12.84375 42.09375 19.28125 \nQ 42.09375 23.09375 40.40625 25.40625 \nQ 38.71875 27.734375 36.203125 29.03125 \nQ 33.6875 30.328125 30.734375 30.765625 \nQ 27.78125 31.203125 25.296875 31.203125 \nL 20.3125 31.203125 \nL 20.3125 38.8125 \nL 25.09375 38.8125 \nQ 27.59375 38.8125 30.265625 39.328125 \nQ 32.953125 39.84375 35.171875 41.1875 \nQ 37.40625 42.53125 38.84375 44.828125 \nQ 40.28125 47.125 40.28125 50.6875 \nQ 40.28125 56.203125 37.03125 59.390625 \nQ 33.796875 62.59375 27.390625 62.59375 \nQ 21.578125 62.59375 17.984375 59.609375 \nQ 14.40625 56.640625 13.8125 51.21875 \nL 4.984375 51.90625 \nQ 5.515625 56.453125 7.46875 59.8125 \nQ 9.421875 63.1875 12.421875 65.40625 \nQ 15.4375 67.625 19.28125 68.71875 \nQ 23.140625 69.828125 27.484375 69.828125 \nQ 33.25 69.828125 37.390625 68.375 \nQ 41.546875 66.9375 44.1875 64.46875 \nQ 46.828125 62.015625 48.0625 58.6875 \nQ 49.3125 55.375 49.3125 51.609375 \nQ 49.3125 48.578125 48.484375 45.9375 \nQ 47.65625 43.3125 45.890625 41.203125 \nQ 44.140625 39.109375 41.421875 37.59375 \nQ 38.71875 36.078125 34.90625 35.296875 \nL 34.90625 35.109375 \nQ 39.0625 34.671875 42.140625 33.21875 \nQ 45.21875 31.78125 47.21875 29.625 \nQ 49.21875 27.484375 50.21875 24.75 \nQ 51.21875 22.015625 51.21875 19 \nz\n\" id=\"LiberationSans-51\"/>\n      </defs>\n      <g style=\"fill:#262626;\" transform=\"translate(291.290083 320.426875)scale(0.1 -0.1)\">\n       <use xlink:href=\"#LiberationSans-51\"/>\n       <use x=\"55.615234\" xlink:href=\"#LiberationSans-48\"/>\n      </g>\n     </g>\n    </g>\n    <g id=\"xtick_5\">\n     <g id=\"line2d_9\">\n      <path clip-path=\"url(#p2413619cbf)\" d=\"M 379.671058 306.18 \nL 379.671058 7.2 \n\" style=\"fill:none;stroke:#ffffff;stroke-linecap:round;\"/>\n     </g>\n     <g id=\"line2d_10\"/>\n     <g id=\"text_5\">\n      <!-- 40 -->\n      <defs>\n       <path d=\"M 43.015625 15.578125 \nL 43.015625 0 \nL 34.71875 0 \nL 34.71875 15.578125 \nL 2.296875 15.578125 \nL 2.296875 22.40625 \nL 33.796875 68.796875 \nL 43.015625 68.796875 \nL 43.015625 22.515625 \nL 52.6875 22.515625 \nL 52.6875 15.578125 \nz\nM 34.71875 58.890625 \nQ 34.625 58.640625 34.234375 57.9375 \nQ 33.84375 57.234375 33.34375 56.34375 \nQ 32.859375 55.46875 32.34375 54.5625 \nQ 31.84375 53.65625 31.453125 53.078125 \nL 13.8125 27.09375 \nQ 13.578125 26.703125 13.109375 26.0625 \nQ 12.640625 25.4375 12.15625 24.78125 \nQ 11.671875 24.125 11.171875 23.484375 \nQ 10.6875 22.859375 10.40625 22.515625 \nL 34.71875 22.515625 \nz\n\" id=\"LiberationSans-52\"/>\n      </defs>\n      <g style=\"fill:#262626;\" transform=\"translate(374.11012 320.426875)scale(0.1 -0.1)\">\n       <use xlink:href=\"#LiberationSans-52\"/>\n       <use x=\"55.615234\" xlink:href=\"#LiberationSans-48\"/>\n      </g>\n     </g>\n    </g>\n    <g id=\"xtick_6\">\n     <g id=\"line2d_11\">\n      <path clip-path=\"url(#p2413619cbf)\" d=\"M 462.491095 306.18 \nL 462.491095 7.2 \n\" style=\"fill:none;stroke:#ffffff;stroke-linecap:round;\"/>\n     </g>\n     <g id=\"line2d_12\"/>\n     <g id=\"text_6\">\n      <!-- 50 -->\n      <defs>\n       <path d=\"M 51.421875 22.40625 \nQ 51.421875 17.234375 49.859375 12.9375 \nQ 48.296875 8.640625 45.21875 5.53125 \nQ 42.140625 2.4375 37.578125 0.71875 \nQ 33.015625 -0.984375 27 -0.984375 \nQ 21.578125 -0.984375 17.546875 0.28125 \nQ 13.53125 1.5625 10.734375 3.78125 \nQ 7.953125 6 6.3125 8.984375 \nQ 4.6875 11.96875 4 15.375 \nL 12.890625 16.40625 \nQ 13.421875 14.453125 14.390625 12.625 \nQ 15.375 10.796875 17.0625 9.34375 \nQ 18.75 7.90625 21.21875 7.046875 \nQ 23.6875 6.203125 27.203125 6.203125 \nQ 30.609375 6.203125 33.390625 7.25 \nQ 36.1875 8.296875 38.15625 10.34375 \nQ 40.140625 12.40625 41.203125 15.375 \nQ 42.28125 18.359375 42.28125 22.21875 \nQ 42.28125 25.390625 41.25 28.046875 \nQ 40.234375 30.71875 38.328125 32.640625 \nQ 36.421875 34.578125 33.65625 35.640625 \nQ 30.90625 36.71875 27.390625 36.71875 \nQ 25.203125 36.71875 23.34375 36.328125 \nQ 21.484375 35.9375 19.890625 35.25 \nQ 18.3125 34.578125 17.015625 33.671875 \nQ 15.71875 32.765625 14.59375 31.78125 \nL 6 31.78125 \nL 8.296875 68.796875 \nL 47.40625 68.796875 \nL 47.40625 61.328125 \nL 16.3125 61.328125 \nL 14.984375 39.5 \nQ 17.328125 41.3125 20.84375 42.59375 \nQ 24.359375 43.890625 29.203125 43.890625 \nQ 34.328125 43.890625 38.421875 42.328125 \nQ 42.53125 40.765625 45.40625 37.90625 \nQ 48.296875 35.0625 49.859375 31.109375 \nQ 51.421875 27.15625 51.421875 22.40625 \nz\n\" id=\"LiberationSans-53\"/>\n      </defs>\n      <g style=\"fill:#262626;\" transform=\"translate(456.930157 320.426875)scale(0.1 -0.1)\">\n       <use xlink:href=\"#LiberationSans-53\"/>\n       <use x=\"55.615234\" xlink:href=\"#LiberationSans-48\"/>\n      </g>\n     </g>\n    </g>\n   </g>\n   <g id=\"matplotlib.axis_2\">\n    <g id=\"ytick_1\">\n     <g id=\"line2d_13\">\n      <path clip-path=\"url(#p2413619cbf)\" d=\"M 28.1 298.768034 \nL 474.5 298.768034 \n\" style=\"fill:none;stroke:#ffffff;stroke-linecap:round;\"/>\n     </g>\n     <g id=\"line2d_14\"/>\n     <g id=\"text_7\">\n      <!-- 0.0 -->\n      <defs>\n       <path d=\"M 9.125 0 \nL 9.125 10.6875 \nL 18.65625 10.6875 \nL 18.65625 0 \nz\n\" id=\"LiberationSans-46\"/>\n      </defs>\n      <g style=\"fill:#262626;\" transform=\"translate(7.2 302.391472)scale(0.1 -0.1)\">\n       <use xlink:href=\"#LiberationSans-48\"/>\n       <use x=\"55.615234\" xlink:href=\"#LiberationSans-46\"/>\n       <use x=\"83.398438\" xlink:href=\"#LiberationSans-48\"/>\n      </g>\n     </g>\n    </g>\n    <g id=\"ytick_2\">\n     <g id=\"line2d_15\">\n      <path clip-path=\"url(#p2413619cbf)\" d=\"M 28.1 245.658408 \nL 474.5 245.658408 \n\" style=\"fill:none;stroke:#ffffff;stroke-linecap:round;\"/>\n     </g>\n     <g id=\"line2d_16\"/>\n     <g id=\"text_8\">\n      <!-- 0.1 -->\n      <g style=\"fill:#262626;\" transform=\"translate(7.2 249.281846)scale(0.1 -0.1)\">\n       <use xlink:href=\"#LiberationSans-48\"/>\n       <use x=\"55.615234\" xlink:href=\"#LiberationSans-46\"/>\n       <use x=\"83.398438\" xlink:href=\"#LiberationSans-49\"/>\n      </g>\n     </g>\n    </g>\n    <g id=\"ytick_3\">\n     <g id=\"line2d_17\">\n      <path clip-path=\"url(#p2413619cbf)\" d=\"M 28.1 192.548782 \nL 474.5 192.548782 \n\" style=\"fill:none;stroke:#ffffff;stroke-linecap:round;\"/>\n     </g>\n     <g id=\"line2d_18\"/>\n     <g id=\"text_9\">\n      <!-- 0.2 -->\n      <g style=\"fill:#262626;\" transform=\"translate(7.2 196.17222)scale(0.1 -0.1)\">\n       <use xlink:href=\"#LiberationSans-48\"/>\n       <use x=\"55.615234\" xlink:href=\"#LiberationSans-46\"/>\n       <use x=\"83.398438\" xlink:href=\"#LiberationSans-50\"/>\n      </g>\n     </g>\n    </g>\n    <g id=\"ytick_4\">\n     <g id=\"line2d_19\">\n      <path clip-path=\"url(#p2413619cbf)\" d=\"M 28.1 139.439156 \nL 474.5 139.439156 \n\" style=\"fill:none;stroke:#ffffff;stroke-linecap:round;\"/>\n     </g>\n     <g id=\"line2d_20\"/>\n     <g id=\"text_10\">\n      <!-- 0.3 -->\n      <g style=\"fill:#262626;\" transform=\"translate(7.2 143.062594)scale(0.1 -0.1)\">\n       <use xlink:href=\"#LiberationSans-48\"/>\n       <use x=\"55.615234\" xlink:href=\"#LiberationSans-46\"/>\n       <use x=\"83.398438\" xlink:href=\"#LiberationSans-51\"/>\n      </g>\n     </g>\n    </g>\n    <g id=\"ytick_5\">\n     <g id=\"line2d_21\">\n      <path clip-path=\"url(#p2413619cbf)\" d=\"M 28.1 86.329531 \nL 474.5 86.329531 \n\" style=\"fill:none;stroke:#ffffff;stroke-linecap:round;\"/>\n     </g>\n     <g id=\"line2d_22\"/>\n     <g id=\"text_11\">\n      <!-- 0.4 -->\n      <g style=\"fill:#262626;\" transform=\"translate(7.2 89.952968)scale(0.1 -0.1)\">\n       <use xlink:href=\"#LiberationSans-48\"/>\n       <use x=\"55.615234\" xlink:href=\"#LiberationSans-46\"/>\n       <use x=\"83.398438\" xlink:href=\"#LiberationSans-52\"/>\n      </g>\n     </g>\n    </g>\n    <g id=\"ytick_6\">\n     <g id=\"line2d_23\">\n      <path clip-path=\"url(#p2413619cbf)\" d=\"M 28.1 33.219905 \nL 474.5 33.219905 \n\" style=\"fill:none;stroke:#ffffff;stroke-linecap:round;\"/>\n     </g>\n     <g id=\"line2d_24\"/>\n     <g id=\"text_12\">\n      <!-- 0.5 -->\n      <g style=\"fill:#262626;\" transform=\"translate(7.2 36.843342)scale(0.1 -0.1)\">\n       <use xlink:href=\"#LiberationSans-48\"/>\n       <use x=\"55.615234\" xlink:href=\"#LiberationSans-46\"/>\n       <use x=\"83.398438\" xlink:href=\"#LiberationSans-53\"/>\n      </g>\n     </g>\n    </g>\n   </g>\n   <g id=\"line2d_25\">\n    <path clip-path=\"url(#p2413619cbf)\" d=\"M 48.390909 20.79 \nL 56.672913 240.536546 \nL 64.954917 256.824913 \nL 73.23692 260.644546 \nL 81.518924 263.698433 \nL 89.800928 265.269083 \nL 98.082931 268.34047 \nL 106.364935 270.867796 \nL 114.646939 273.311315 \nL 122.928942 277.327501 \nL 131.210946 280.249286 \nL 139.49295 280.769286 \nL 147.774954 282.195413 \nL 156.056957 283.598545 \nL 164.338961 283.21077 \nL 172.620965 284.374489 \nL 180.902968 284.916333 \nL 189.184972 285.88788 \nL 197.466976 286.669319 \nL 205.74898 286.988379 \nL 214.030983 287.307561 \nL 222.312987 287.183341 \nL 230.594991 287.546727 \nL 238.876994 288.502255 \nL 247.158998 288.574557 \nL 255.441002 288.689797 \nL 263.723006 289.01913 \nL 272.005009 289.069691 \nL 280.287013 289.412046 \nL 288.569017 289.73386 \nL 296.85102 289.393491 \nL 305.133024 290.33991 \nL 313.415028 290.094571 \nL 321.697032 290.208769 \nL 329.979035 290.559001 \nL 338.261039 291.075092 \nL 346.543043 290.950032 \nL 354.825046 290.453234 \nL 363.10705 291.368964 \nL 371.389054 291.497382 \nL 379.671058 291.743249 \nL 387.953061 291.608019 \nL 396.235065 291.764911 \nL 404.517069 291.838165 \nL 412.799072 291.908101 \nL 421.081076 291.773744 \nL 429.36308 292.226255 \nL 437.645083 292.185168 \nL 445.927087 292.379824 \nL 454.209091 292.59 \n\" style=\"fill:none;stroke:#4c72b0;stroke-linecap:round;stroke-width:1.75;\"/>\n   </g>\n   <g id=\"line2d_26\">\n    <path clip-path=\"url(#p2413619cbf)\" d=\"M 48.390909 212.496709 \nL 56.672913 251.806079 \nL 64.954917 256.049825 \nL 73.23692 259.131106 \nL 81.518924 256.105804 \nL 89.800928 264.057754 \nL 98.082931 268.543219 \nL 106.364935 271.432856 \nL 114.646939 271.899484 \nL 122.928942 277.955631 \nL 131.210946 279.899116 \nL 139.49295 281.463419 \nL 147.774954 281.30638 \nL 156.056957 282.214077 \nL 164.338961 280.070049 \nL 172.620965 282.085412 \nL 180.902968 285.380291 \nL 189.184972 284.73712 \nL 197.466976 284.689199 \nL 205.74898 286.221002 \nL 214.030983 286.530493 \nL 222.312987 284.644381 \nL 230.594991 286.531357 \nL 238.876994 286.499907 \nL 247.158998 287.329085 \nL 255.441002 287.724261 \nL 263.723006 287.801778 \nL 272.005009 287.143633 \nL 280.287013 288.209295 \nL 288.569017 288.493126 \nL 296.85102 288.68544 \nL 305.133024 289.487621 \nL 313.415028 289.805205 \nL 321.697032 288.306 \nL 329.979035 289.201752 \nL 338.261039 287.563715 \nL 346.543043 289.464391 \nL 354.825046 290.140734 \nL 363.10705 289.860023 \nL 371.389054 290.142973 \nL 379.671058 289.894975 \nL 387.953061 290.51346 \nL 396.235065 289.446868 \nL 404.517069 290.228851 \nL 412.799072 289.372382 \nL 421.081076 290.680742 \nL 429.36308 290.799265 \nL 437.645083 290.59685 \nL 445.927087 291.169766 \nL 454.209091 290.559653 \n\" style=\"fill:none;stroke:#55a868;stroke-linecap:round;stroke-width:1.75;\"/>\n   </g>\n   <g id=\"patch_3\">\n    <path d=\"M 28.1 306.18 \nL 28.1 7.2 \n\" style=\"fill:none;\"/>\n   </g>\n   <g id=\"patch_4\">\n    <path d=\"M 474.5 306.18 \nL 474.5 7.2 \n\" style=\"fill:none;\"/>\n   </g>\n   <g id=\"patch_5\">\n    <path d=\"M 28.1 306.18 \nL 474.5 306.18 \n\" style=\"fill:none;\"/>\n   </g>\n   <g id=\"patch_6\">\n    <path d=\"M 28.1 7.2 \nL 474.5 7.2 \n\" style=\"fill:none;\"/>\n   </g>\n  </g>\n </g>\n <defs>\n  <clipPath id=\"p2413619cbf\">\n   <rect height=\"298.98\" width=\"446.4\" x=\"28.1\" y=\"7.2\"/>\n  </clipPath>\n </defs>\n</svg>\n",
      "image/png": "[encoded data removed]"
     },
     "metadata": {}
    }
   ],
   "source": [
    "plt.plot(loss)\n",
    "plt.plot(val_loss)\n",
    "plt.show()"
   ]
  },
  {
   "cell_type": "code",
   "execution_count": null,
   "metadata": {},
   "outputs": [],
   "source": []
  },
  {
   "cell_type": "code",
   "execution_count": 10,
   "metadata": {},
   "outputs": [],
   "source": [
    "def inverse_transform(yhat, y, scaler):\n",
    "\treturn scaler.inverse_transform(y),  scaler.inverse_transform(yhat)\n"
   ]
  },
  {
   "cell_type": "code",
   "execution_count": 11,
   "metadata": {},
   "outputs": [],
   "source": [
    "y_hat = model.predict(X_test)\n",
    "y_hat_2 = model.predict(X_val)\n",
    "\n",
    "y_test, y_hat = inverse_transform(y_hat, y_test, scaler)\n",
    "y_val, y_hat_2 = inverse_transform(y_hat_2, y_val, scaler)"
   ]
  },
  {
   "cell_type": "code",
   "execution_count": 12,
   "metadata": {},
   "outputs": [],
   "source": [
    "from sklearn.metrics import mean_absolute_error\n",
    "def evaluate_forecasts(test, forecasts, n_seq):\n",
    "\tfor i in range(n_seq):\n",
    "\t\tactual = [row[i] for row in test]\n",
    "\t\tpredicted = [forecast[i] for forecast in forecasts]\n",
    "\t\trmse = mean_absolute_error(actual, predicted)\n",
    "\t\tprint('t+%d MSE: %f' % ((i+1), rmse))"
   ]
  },
  {
   "cell_type": "code",
   "execution_count": 13,
   "metadata": {},
   "outputs": [
    {
     "output_type": "stream",
     "name": "stdout",
     "text": [
      "test\nt+1 MSE: 245.334539\nt+2 MSE: 320.947186\nt+3 MSE: 372.579301\nt+4 MSE: 415.786691\nt+5 MSE: 457.358457\nt+6 MSE: 513.686150\nvalidacion\nt+1 MSE: 247.709608\nt+2 MSE: 318.078907\nt+3 MSE: 361.491603\nt+4 MSE: 402.715228\nt+5 MSE: 445.980679\nt+6 MSE: 505.226921\n"
     ]
    }
   ],
   "source": [
    "print(\"test\")\n",
    "evaluate_forecasts(y_test, y_hat, 6)\n",
    "\n",
    "print(\"validacion\")\n",
    "evaluate_forecasts(y_val, y_hat_2, 6)"
   ]
  },
  {
   "cell_type": "code",
   "execution_count": 14,
   "metadata": {},
   "outputs": [
    {
     "output_type": "execute_result",
     "data": {
      "text/plain": [
       "387.61538733333333"
      ]
     },
     "metadata": {},
     "execution_count": 14
    }
   ],
   "source": [
    "(245.334539 + 320.947186 + 372.579301 + 415.786691 + 457.358457 + 513.686150)/6"
   ]
  },
  {
   "cell_type": "code",
   "execution_count": null,
   "metadata": {},
   "outputs": [],
   "source": []
  }
 ]
}