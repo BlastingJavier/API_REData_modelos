{
 "metadata": {
  "language_info": {
   "codemirror_mode": {
    "name": "ipython",
    "version": 3
   },
   "file_extension": ".py",
   "mimetype": "text/x-python",
   "name": "python",
   "nbconvert_exporter": "python",
   "pygments_lexer": "ipython3",
   "version": "3.7.4"
  },
  "orig_nbformat": 2,
  "kernelspec": {
   "name": "python37464bitbasecondac547116b29364bc6a987cb9d2b9c1f30",
   "display_name": "Python 3.7.4 64-bit ('base': conda)"
  },
  "metadata": {
   "interpreter": {
    "hash": "f56191c7ce0b73b3466ae7dded3423d6980e340342c7b9ccfd9058e348dc3979"
   }
  }
 },
 "nbformat": 4,
 "nbformat_minor": 2,
 "cells": [
  {
   "cell_type": "code",
   "execution_count": 1,
   "metadata": {},
   "outputs": [],
   "source": [
    "import numpy as np \n",
    "import pandas as pd\n",
    "import matplotlib.pyplot as plt\n",
    "import seaborn as sns\n",
    "\n",
    "from utils import preprocess_time_series_v1 \n",
    "from sklearn.linear_model import Ridge\n",
    "from sklearn.metrics import mean_absolute_error\n",
    "from sklearn.multioutput import MultiOutputRegressor\n",
    "from sklearn.preprocessing import StandardScaler\n",
    "from utils import preprocess_time_series_v2"
   ]
  },
  {
   "cell_type": "code",
   "execution_count": 2,
   "metadata": {},
   "outputs": [
    {
     "output_type": "stream",
     "name": "stdout",
     "text": [
      "                      Date  value\n",
      "0      2016-01-02 23:00:00  24151\n",
      "1      2016-01-03 00:00:00  22170\n",
      "2      2016-01-03 01:00:00  20691\n",
      "3      2016-01-03 02:00:00  19737\n",
      "4      2016-01-03 03:00:00  19437\n",
      "...                    ...    ...\n",
      "34940  2019-12-28 19:00:00  29282\n",
      "34941  2019-12-28 20:00:00  29266\n",
      "34942  2019-12-28 21:00:00  28022\n",
      "34943  2019-12-28 22:00:00  25964\n",
      "34944  2019-12-28 23:00:00  24680\n",
      "\n",
      "[34945 rows x 2 columns]\n",
      "(17497, 1)\n",
      "(8760, 1)\n",
      "(8688, 1)\n",
      "shape train/val (17497, 1) (8760, 1) (8688, 1)\n",
      "Tamano de la serie temporal 2\n",
      "Tamano de la serie temporal 2\n",
      "Tamano de la serie temporal 2\n",
      "shape train/val (17396, 96, 1, 1) (8659, 96, 1, 1) (8587, 96, 1, 1)\n",
      "(17396, 96, 1, 1)\n",
      "/home/blasting/TFG_TimeSeries/notebooks/utils.py:131: FutureWarning: Indexing a DataFrame with a datetimelike index using a single string to slice the rows, like `frame[string]`, is deprecated and will be removed in a future version. Use `frame.loc[string]` instead.\n",
      "  val_data = df[date_val].to_numpy()\n",
      "/home/blasting/TFG_TimeSeries/notebooks/utils.py:132: FutureWarning: Indexing a DataFrame with a datetimelike index using a single string to slice the rows, like `frame[string]`, is deprecated and will be removed in a future version. Use `frame.loc[string]` instead.\n",
      "  test_data = df[date_test].to_numpy()\n"
     ]
    }
   ],
   "source": [
    "df = pd.read_csv('REE_2016_2020_gluonTS.csv')\n",
    "\n",
    "X_train, y_train, X_val, y_val, X_test, y_test, scaler = preprocess_time_series_v2(df, date_init='2016', date_final='2017', date_val='2018', date_test='2019', \n",
    "                            past_timestamps=96, forecasting_horizon=6, \n",
    "                            standarize=True, metafeatures=False, tendency=False)"
   ]
  },
  {
   "cell_type": "code",
   "execution_count": 3,
   "metadata": {},
   "outputs": [
    {
     "output_type": "execute_result",
     "data": {
      "text/plain": [
       "(17396, 6)"
      ]
     },
     "metadata": {},
     "execution_count": 3
    }
   ],
   "source": [
    "y_train.shape"
   ]
  },
  {
   "cell_type": "code",
   "execution_count": 4,
   "metadata": {},
   "outputs": [
    {
     "output_type": "execute_result",
     "data": {
      "text/plain": [
       "MultiOutputRegressor(estimator=Ridge())"
      ]
     },
     "metadata": {},
     "execution_count": 4
    }
   ],
   "source": [
    "model = MultiOutputRegressor(Ridge())\n",
    "model.fit(X_train[:, :, 0], y_train)\n",
    "# make a one-step prediction"
   ]
  },
  {
   "cell_type": "code",
   "execution_count": 5,
   "metadata": {},
   "outputs": [],
   "source": [
    "def inverse_transform(yhat, y, scaler):\n",
    "\treturn scaler.inverse_transform(y),  scaler.inverse_transform(yhat)"
   ]
  },
  {
   "cell_type": "code",
   "execution_count": 7,
   "metadata": {},
   "outputs": [],
   "source": [
    "y_hat = model.predict(X_test[:, :, 0])\n",
    "y_hat_2 = model.predict(X_val[:, :, 0])\n",
    "\n",
    "y_test, y_hat = inverse_transform(y_hat, y_test, scaler)\n",
    "y_val, y_hat_2 = inverse_transform(y_hat_2, y_val, scaler)"
   ]
  },
  {
   "cell_type": "code",
   "execution_count": 8,
   "metadata": {},
   "outputs": [],
   "source": [
    "from sklearn.metrics import mean_absolute_error\n",
    "def evaluate_forecasts(test, forecasts, n_seq):\n",
    "\tfor i in range(n_seq):\n",
    "\t\tactual = [row[i] for row in test]\n",
    "\t\tpredicted = [forecast[i] for forecast in forecasts]\n",
    "\t\trmse = mean_absolute_error(actual, predicted)\n",
    "\t\tprint('t+%d MSE: %f' % ((i+1), rmse))"
   ]
  },
  {
   "cell_type": "code",
   "execution_count": 9,
   "metadata": {},
   "outputs": [
    {
     "output_type": "stream",
     "name": "stdout",
     "text": [
      "test\nt+1 MSE: 237.204539\nt+2 MSE: 464.228046\nt+3 MSE: 646.221263\nt+4 MSE: 783.176089\nt+5 MSE: 900.534409\nt+6 MSE: 1010.347447\nvalidacion\nt+1 MSE: 245.884015\nt+2 MSE: 486.264846\nt+3 MSE: 678.439652\nt+4 MSE: 822.773933\nt+5 MSE: 946.624730\nt+6 MSE: 1062.579741\n"
     ]
    }
   ],
   "source": [
    "print(\"test\")\n",
    "evaluate_forecasts(y_test, y_hat, 6)\n",
    "\n",
    "print(\"validacion\")\n",
    "evaluate_forecasts(y_val, y_hat_2, 6)"
   ]
  },
  {
   "cell_type": "code",
   "execution_count": 1,
   "metadata": {},
   "outputs": [
    {
     "output_type": "execute_result",
     "data": {
      "text/plain": [
       "673.6186321666667"
      ]
     },
     "metadata": {},
     "execution_count": 1
    }
   ],
   "source": [
    "(237.204539 + 464.228046 + 646.221263 + 783.176089 + 900.534409 + 1010.347447)/6"
   ]
  },
  {
   "cell_type": "code",
   "execution_count": null,
   "metadata": {},
   "outputs": [],
   "source": []
  }
 ]
}